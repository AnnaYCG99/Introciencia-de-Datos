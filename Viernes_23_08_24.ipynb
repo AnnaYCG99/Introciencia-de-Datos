{
  "nbformat": 4,
  "nbformat_minor": 0,
  "metadata": {
    "colab": {
      "provenance": [],
      "include_colab_link": true
    },
    "kernelspec": {
      "name": "python3",
      "display_name": "Python 3"
    },
    "language_info": {
      "name": "python"
    }
  },
  "cells": [
    {
      "cell_type": "markdown",
      "metadata": {
        "id": "view-in-github",
        "colab_type": "text"
      },
      "source": [
        "<a href=\"https://colab.research.google.com/github/AnnaYCG99/Introciencia-de-Datos/blob/main/Viernes_23_08_24.ipynb\" target=\"_parent\"><img src=\"https://colab.research.google.com/assets/colab-badge.svg\" alt=\"Open In Colab\"/></a>"
      ]
    },
    {
      "cell_type": "code",
      "execution_count": null,
      "metadata": {
        "id": "wjST73ohkEKg"
      },
      "outputs": [],
      "source": [
        "#Ejemolos de listas\n",
        "\n",
        "Números=[1, 2, 3, 4, 5]\n",
        "Nombres=[\"Anna\", \"Dulce\", \"Yael\"]\n",
        "Mixta=[10, \"Python\", 3.14, True]"
      ]
    },
    {
      "cell_type": "code",
      "source": [
        "print(Números[4])\n",
        "print(Nombres[2])"
      ],
      "metadata": {
        "colab": {
          "base_uri": "https://localhost:8080/"
        },
        "id": "2RUeUAGhl7rH",
        "outputId": "79ce8671-50f7-4530-bdaa-0d93552a0ab6"
      },
      "execution_count": null,
      "outputs": [
        {
          "output_type": "stream",
          "name": "stdout",
          "text": [
            "5\n",
            "Yael\n"
          ]
        }
      ]
    },
    {
      "cell_type": "code",
      "source": [
        "datos=[\"Anna\", 25, \"Morado\"]"
      ],
      "metadata": {
        "id": "0ItRUGDumitp"
      },
      "execution_count": null,
      "outputs": []
    },
    {
      "cell_type": "code",
      "source": [
        "print(f\"Mi nombre es: {datos[0]}, mi edad es: {datos[1]} y mi color es: {datos[2]}\")"
      ],
      "metadata": {
        "colab": {
          "base_uri": "https://localhost:8080/"
        },
        "id": "vg1xM3mbnS-_",
        "outputId": "87e64ca6-ec2c-4606-e06b-b0465030d978"
      },
      "execution_count": null,
      "outputs": [
        {
          "output_type": "stream",
          "name": "stdout",
          "text": [
            "Mi nombre es: Anna, mi edad es: 25 y mi color es: Morado\n"
          ]
        }
      ]
    },
    {
      "cell_type": "code",
      "source": [
        "print(\"Mi nombre es:\", datos[0], \", mi edad es:\", datos[1], \", mi color favorito es:\", datos[2])"
      ],
      "metadata": {
        "colab": {
          "base_uri": "https://localhost:8080/"
        },
        "id": "Usvr4cX1onir",
        "outputId": "7a59a649-f9e5-4572-8af8-87a6bc85157c"
      },
      "execution_count": null,
      "outputs": [
        {
          "output_type": "stream",
          "name": "stdout",
          "text": [
            "Mi nombre es: Anna , mi edad es: 25 , mi color favorito es: Morado\n"
          ]
        }
      ]
    },
    {
      "cell_type": "code",
      "source": [
        "a=3\n",
        "b=6\n",
        "\n",
        "print(a+b)\n",
        "print(a-b)\n",
        "print(a*b)\n",
        "print(a/b)\n",
        "print(a**b)"
      ],
      "metadata": {
        "colab": {
          "base_uri": "https://localhost:8080/"
        },
        "id": "RuSFCnSwrKxq",
        "outputId": "4a6aaee1-811b-47e6-c7b7-6da548a51f67"
      },
      "execution_count": null,
      "outputs": [
        {
          "output_type": "stream",
          "name": "stdout",
          "text": [
            "9\n",
            "-3\n",
            "18\n",
            "0.5\n",
            "729\n"
          ]
        }
      ]
    },
    {
      "cell_type": "code",
      "source": [
        "nombre= input(\"Dame un nombre: \")"
      ],
      "metadata": {
        "colab": {
          "base_uri": "https://localhost:8080/"
        },
        "id": "2mwEtWGVtr61",
        "outputId": "5243dd0f-76e8-47bc-ef84-b25660c00d37"
      },
      "execution_count": null,
      "outputs": [
        {
          "name": "stdout",
          "output_type": "stream",
          "text": [
            "Dame un nombre: Anna\n"
          ]
        }
      ]
    },
    {
      "cell_type": "code",
      "source": [
        "num1= float(input(\"Dame un número: \"))\n",
        "num2= float(input(\"Dame otro número: \"))"
      ],
      "metadata": {
        "colab": {
          "base_uri": "https://localhost:8080/"
        },
        "id": "8kEBe03LsGhz",
        "outputId": "3759251a-b77b-490f-be30-86fab8b66ba4"
      },
      "execution_count": null,
      "outputs": [
        {
          "name": "stdout",
          "output_type": "stream",
          "text": [
            "Dame un número: 7.6543\n",
            "Dame otro número: 8.34679\n"
          ]
        }
      ]
    },
    {
      "cell_type": "code",
      "source": [
        "print(f\"{num1: .2f}\")\n",
        "print(f\"{num2: .2f}\")"
      ],
      "metadata": {
        "colab": {
          "base_uri": "https://localhost:8080/"
        },
        "id": "8qZyVrb8s6da",
        "outputId": "c99d6772-2b83-43c6-f11a-83d73e7d8a6e"
      },
      "execution_count": null,
      "outputs": [
        {
          "output_type": "stream",
          "name": "stdout",
          "text": [
            " 7.65\n",
            " 8.35\n"
          ]
        }
      ]
    },
    {
      "cell_type": "code",
      "source": [
        "x=44\n",
        "y=\"Anna\"\n",
        "z=3.1416"
      ],
      "metadata": {
        "id": "yibOBg_DuFLQ"
      },
      "execution_count": null,
      "outputs": []
    },
    {
      "cell_type": "code",
      "source": [
        "type(z)"
      ],
      "metadata": {
        "colab": {
          "base_uri": "https://localhost:8080/"
        },
        "id": "TDOYyUhjuURS",
        "outputId": "0a64cdeb-5a82-441a-a2fd-cfaf3cb4f740"
      },
      "execution_count": null,
      "outputs": [
        {
          "output_type": "execute_result",
          "data": {
            "text/plain": [
              "float"
            ]
          },
          "metadata": {},
          "execution_count": 33
        }
      ]
    },
    {
      "cell_type": "code",
      "source": [
        "#Diccionario, ejemplo básico\n",
        "\n",
        "estudiante= {\n",
        "   \"nombre\":\"Anna\",\n",
        "   \"edad\":25,\n",
        "   \"carrera\":\"Ciencia de Datos\",\n",
        "   \"promedio\":9.4\n",
        "}"
      ],
      "metadata": {
        "id": "zDUVyIkiugIc"
      },
      "execution_count": null,
      "outputs": []
    },
    {
      "cell_type": "code",
      "source": [
        "print(f\"Mi nombre es: {estudiante['nombre']}, mi edad es: {estudiante['edad']}, mi carrera es: {estudiante['carrera']} y mi promedio es: {estudiante['promedio']}\")"
      ],
      "metadata": {
        "colab": {
          "base_uri": "https://localhost:8080/"
        },
        "id": "I-Ji3b7avUtQ",
        "outputId": "fc12551e-a799-42e3-a1c5-62e834537a00"
      },
      "execution_count": null,
      "outputs": [
        {
          "output_type": "stream",
          "name": "stdout",
          "text": [
            "Mi nombre es: Anna, mi edad es: 25, mi carrera es: Ciencia de Datos y mi promedio es: 9.4\n"
          ]
        }
      ]
    },
    {
      "cell_type": "code",
      "source": [
        "#Ejemplo básico de ford con una lista\n",
        "\n",
        "números= [1,2,3,4,5]\n",
        "for i in números:\n",
        "   print(i)"
      ],
      "metadata": {
        "colab": {
          "base_uri": "https://localhost:8080/"
        },
        "id": "6GyAvHOtzo5P",
        "outputId": "d9b0a370-8102-440a-d250-d54cb9b023a0"
      },
      "execution_count": null,
      "outputs": [
        {
          "output_type": "stream",
          "name": "stdout",
          "text": [
            "1\n",
            "2\n",
            "3\n",
            "4\n",
            "5\n"
          ]
        }
      ]
    },
    {
      "cell_type": "code",
      "source": [
        "texto = \"Python\"\n",
        "for letra in texto:\n",
        "   print(letra)"
      ],
      "metadata": {
        "colab": {
          "base_uri": "https://localhost:8080/"
        },
        "id": "Uqfeg04l1-2Y",
        "outputId": "a1c2b1b6-0db6-40ff-cb16-09b3ede46588"
      },
      "execution_count": null,
      "outputs": [
        {
          "output_type": "stream",
          "name": "stdout",
          "text": [
            "P\n",
            "y\n",
            "t\n",
            "h\n",
            "o\n",
            "n\n"
          ]
        }
      ]
    },
    {
      "cell_type": "code",
      "source": [
        "for i in range(5): #Itera desde 0 hasta 4\n",
        "   print(i+1)"
      ],
      "metadata": {
        "colab": {
          "base_uri": "https://localhost:8080/"
        },
        "id": "jgonZ9sj2hWJ",
        "outputId": "0ed69684-3818-4400-ff75-8b7ab5bf78e0"
      },
      "execution_count": null,
      "outputs": [
        {
          "output_type": "stream",
          "name": "stdout",
          "text": [
            "1\n",
            "2\n",
            "3\n",
            "4\n",
            "5\n"
          ]
        }
      ]
    },
    {
      "cell_type": "code",
      "source": [
        "mesa=[\"Jimy\", \"Leo\", \"Dulce\", \"Yael\", \"Anna\"]\n",
        "edad=[24, 22, 17, 18, 25]\n",
        "color=[\"Azul\", \"Morado\", \"Negro\", \"Rojo\", \"Lila\"]\n",
        "hobbie=[\"Videojuegos\", \"Videojuegos\", \"Escuchar música\",\" Guitarra\", \"Dormir\"]"
      ],
      "metadata": {
        "id": "HDlqDINu3AUc"
      },
      "execution_count": null,
      "outputs": []
    },
    {
      "cell_type": "code",
      "source": [
        "for nombre, i, m, n in zip(mesa, edad, color, hobbie):\n",
        "\n",
        "   print(f\"El nombre de mi compañero es: {nombre}, tiene: {i} años, su color favorito es: {m} y su hobbie es: {n}\")"
      ],
      "metadata": {
        "id": "vwgO0UX764Ct",
        "colab": {
          "base_uri": "https://localhost:8080/"
        },
        "outputId": "92a843d4-8761-49a7-b174-fcac7a004b21"
      },
      "execution_count": null,
      "outputs": [
        {
          "output_type": "stream",
          "name": "stdout",
          "text": [
            "El nombre de mi compañero es: Jimy, tiene: 24 años, su color favorito es: Azul y su hobbie es: Videojuegos\n",
            "El nombre de mi compañero es: Leo, tiene: 22 años, su color favorito es: Morado y su hobbie es: Videojuegos\n",
            "El nombre de mi compañero es: Dulce, tiene: 18 años, su color favorito es: Negro y su hobbie es: Escuchar música\n",
            "El nombre de mi compañero es: Yael, tiene: 19 años, su color favorito es: Rojo y su hobbie es:  Guitarra\n",
            "El nombre de mi compañero es: Anna, tiene: 25 años, su color favorito es: Lila y su hobbie es: Dormir\n"
          ]
        }
      ]
    },
    {
      "cell_type": "code",
      "source": [
        "for nombre,i in zip(mesa, edad):\n",
        "   if i==18:\n",
        "       print(f\"{nombre} tiene {i} y ya es de edad en norma\")\n",
        "   elif i<18:\n",
        "       print(f\"{nombre} tiene {i} y no es mayor de edad\")\n",
        "   else:\n",
        "       print(f\"{nombre} tiene {i} y es mayor de edad\")"
      ],
      "metadata": {
        "colab": {
          "base_uri": "https://localhost:8080/"
        },
        "id": "Vka4tl5kLu5E",
        "outputId": "b236e191-ae6a-4e59-83a2-448bd7c04c92"
      },
      "execution_count": null,
      "outputs": [
        {
          "output_type": "stream",
          "name": "stdout",
          "text": [
            "Jimy tiene 24 y es mayor de edad\n",
            "Leo tiene 22 y es mayor de edad\n",
            "Dulce tiene 17 y no es mayor de edad\n",
            "Yael tiene 18 y ya es de edad en norma\n",
            "Anna tiene 25 y es mayor de edad\n"
          ]
        }
      ]
    },
    {
      "cell_type": "code",
      "source": [
        "#Fundamentos de matemáticas\n",
        "\n",
        "# (P or Q) and (notP)\n",
        "\n",
        "dat=[True, False]"
      ],
      "metadata": {
        "id": "cLNuefMfGQtx"
      },
      "execution_count": null,
      "outputs": []
    },
    {
      "cell_type": "code",
      "source": [
        "for P in dat:\n",
        "   for Q in dat:\n",
        "      print(f\"Cuándo P es: {P} y Q es: {Q} la operación es {(P or Q)and(not P)}\")"
      ],
      "metadata": {
        "colab": {
          "base_uri": "https://localhost:8080/"
        },
        "id": "12qj_KByHJqO",
        "outputId": "2f19e9f4-dd19-47b1-c887-ad52959bc872"
      },
      "execution_count": null,
      "outputs": [
        {
          "output_type": "stream",
          "name": "stdout",
          "text": [
            "Cuándo P es: True y Q es: True la operación es False\n",
            "Cuándo P es: True y Q es: False la operación es False\n",
            "Cuándo P es: False y Q es: True la operación es True\n",
            "Cuándo P es: False y Q es: False la operación es False\n"
          ]
        }
      ]
    },
    {
      "cell_type": "code",
      "source": [
        "for A in dat:\n",
        "   for B in dat:\n",
        "      for C in dat:\n",
        "        print(f\"Cuando A es: {A}, B es: {B} y C es:{C} la operación es: {(A and not B) or (C)}\")"
      ],
      "metadata": {
        "colab": {
          "base_uri": "https://localhost:8080/"
        },
        "id": "K6MgXCL0IFO2",
        "outputId": "d9ef1299-d45c-4668-df07-3c6187a32c02"
      },
      "execution_count": null,
      "outputs": [
        {
          "output_type": "stream",
          "name": "stdout",
          "text": [
            "Cuando A es: True, B es: True y C es:True la operación es: True\n",
            "Cuando A es: True, B es: True y C es:False la operación es: False\n",
            "Cuando A es: True, B es: False y C es:True la operación es: True\n",
            "Cuando A es: True, B es: False y C es:False la operación es: True\n",
            "Cuando A es: False, B es: True y C es:True la operación es: True\n",
            "Cuando A es: False, B es: True y C es:False la operación es: False\n",
            "Cuando A es: False, B es: False y C es:True la operación es: True\n",
            "Cuando A es: False, B es: False y C es:False la operación es: False\n"
          ]
        }
      ]
    },
    {
      "cell_type": "code",
      "source": [
        "edad=int(input(\"¿Cuál es tu edad? \"))\n",
        "\n",
        "if edad==19:\n",
        "    print(\"Tienes 19 años\")\n",
        "else:\n",
        "    print(\"Tú no tienes 19 años\")"
      ],
      "metadata": {
        "colab": {
          "base_uri": "https://localhost:8080/"
        },
        "id": "2SVz2_NjJKIO",
        "outputId": "4ebd035f-aba6-4df4-b4f0-c4cc8c2013e5"
      },
      "execution_count": null,
      "outputs": [
        {
          "output_type": "stream",
          "name": "stdout",
          "text": [
            "¿Cuál es tu edad? 20\n",
            "Tú no tienes 19 años\n"
          ]
        }
      ]
    },
    {
      "cell_type": "code",
      "source": [
        "edad=int(input(\"¿Cuál es tu edad? \"))\n",
        "\n",
        "if edad==19:\n",
        "    print(\"Tienes 19 años\")\n",
        "elif edad==21:\n",
        "    print(\"Tienes 21 años\")\n",
        "else:\n",
        "    print(\"Tú no tienes 19 o 21 años\")"
      ],
      "metadata": {
        "colab": {
          "base_uri": "https://localhost:8080/"
        },
        "id": "RkFNgbS7KWKz",
        "outputId": "b7e613c3-8152-4363-bed4-5eed7e4ec779"
      },
      "execution_count": null,
      "outputs": [
        {
          "output_type": "stream",
          "name": "stdout",
          "text": [
            "¿Cuál es tu edad? 25\n",
            "Tú no tienes 19 o 21 años\n"
          ]
        }
      ]
    },
    {
      "cell_type": "code",
      "source": [
        "pip install numpy"
      ],
      "metadata": {
        "id": "-1j-dJgwSLSn"
      },
      "execution_count": null,
      "outputs": []
    },
    {
      "cell_type": "code",
      "source": [
        "import numpy as np\n",
        "\n",
        "A=np.array([[4,3,1],[5,2,7],[8,2,9]])\n",
        "B=np.array([[7,-2,3],[4,1,2],[5,3,1]])\n",
        "print(A)\n",
        "print(B)"
      ],
      "metadata": {
        "colab": {
          "base_uri": "https://localhost:8080/"
        },
        "id": "H6XCVntPTKnE",
        "outputId": "c0f3577e-0b6e-4b39-996c-4cb09e1d003e"
      },
      "execution_count": null,
      "outputs": [
        {
          "output_type": "stream",
          "name": "stdout",
          "text": [
            "[[4 3 1]\n",
            " [5 2 7]\n",
            " [8 2 9]]\n",
            "[[ 7 -2  3]\n",
            " [ 4  1  2]\n",
            " [ 5  3  1]]\n"
          ]
        }
      ]
    },
    {
      "cell_type": "code",
      "source": [
        "print(A+B)"
      ],
      "metadata": {
        "colab": {
          "base_uri": "https://localhost:8080/"
        },
        "id": "Gk4b2dKeUW7-",
        "outputId": "12a5f89d-aded-4355-934f-0a984b6e0b29"
      },
      "execution_count": null,
      "outputs": [
        {
          "output_type": "stream",
          "name": "stdout",
          "text": [
            "[[11  1  4]\n",
            " [ 9  3  9]\n",
            " [13  5 10]]\n"
          ]
        }
      ]
    },
    {
      "cell_type": "code",
      "source": [
        "print(np.dot(A,B))"
      ],
      "metadata": {
        "colab": {
          "base_uri": "https://localhost:8080/"
        },
        "id": "LHWK0PBRUlsz",
        "outputId": "de2481ae-1184-4e2f-fd87-ef90f71c0657"
      },
      "execution_count": null,
      "outputs": [
        {
          "output_type": "stream",
          "name": "stdout",
          "text": [
            "[[ 45  -2  19]\n",
            " [ 78  13  26]\n",
            " [109  13  37]]\n"
          ]
        }
      ]
    },
    {
      "cell_type": "code",
      "source": [
        "from fractions import Fraction\n",
        "print(Fraction(3,4))"
      ],
      "metadata": {
        "colab": {
          "base_uri": "https://localhost:8080/"
        },
        "id": "wYFWmq6BVMQB",
        "outputId": "79821398-4372-40d5-8b30-baa8512da779"
      },
      "execution_count": null,
      "outputs": [
        {
          "output_type": "stream",
          "name": "stdout",
          "text": [
            "3/4\n"
          ]
        }
      ]
    }
  ]
}